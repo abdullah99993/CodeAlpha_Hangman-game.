{
 "cells": [
  {
   "cell_type": "code",
   "execution_count": 1,
   "id": "d5df595a-61d7-4852-8c5e-c749bacbdb23",
   "metadata": {},
   "outputs": [
    {
     "name": "stdout",
     "output_type": "stream",
     "text": [
      "Pssst, the solution is sabagul.\n"
     ]
    },
    {
     "name": "stdin",
     "output_type": "stream",
     "text": [
      "Guess a letter:  a\n"
     ]
    },
    {
     "name": "stdout",
     "output_type": "stream",
     "text": [
      "- a - a - - -\n"
     ]
    },
    {
     "name": "stdin",
     "output_type": "stream",
     "text": [
      "Guess a letter:  h\n"
     ]
    },
    {
     "name": "stdout",
     "output_type": "stream",
     "text": [
      "\n",
      "  +---+\n",
      "  |   |\n",
      "  O   |\n",
      "      |\n",
      "      |\n",
      "      |\n",
      "=========\n",
      "\n",
      "- a - a - - -\n"
     ]
    },
    {
     "name": "stdin",
     "output_type": "stream",
     "text": [
      "Guess a letter:  d\n"
     ]
    },
    {
     "name": "stdout",
     "output_type": "stream",
     "text": [
      "\n",
      "  +---+\n",
      "  |   |\n",
      "  O   |\n",
      "  |   |\n",
      "      |\n",
      "      |\n",
      "=========\n",
      "\n",
      "- a - a - - -\n"
     ]
    },
    {
     "name": "stdin",
     "output_type": "stream",
     "text": [
      "Guess a letter:  v\n"
     ]
    },
    {
     "name": "stdout",
     "output_type": "stream",
     "text": [
      "\n",
      "  +---+\n",
      "  |   |\n",
      "  O   |\n",
      " /|   |\n",
      "      |\n",
      "      |\n",
      "=========\n",
      "\n",
      "- a - a - - -\n"
     ]
    },
    {
     "name": "stdin",
     "output_type": "stream",
     "text": [
      "Guess a letter:  b\n"
     ]
    },
    {
     "name": "stdout",
     "output_type": "stream",
     "text": [
      "- a b a - - -\n"
     ]
    },
    {
     "name": "stdin",
     "output_type": "stream",
     "text": [
      "Guess a letter:  g\n"
     ]
    },
    {
     "name": "stdout",
     "output_type": "stream",
     "text": [
      "- a b a g - -\n"
     ]
    },
    {
     "name": "stdin",
     "output_type": "stream",
     "text": [
      "Guess a letter:  u\n"
     ]
    },
    {
     "name": "stdout",
     "output_type": "stream",
     "text": [
      "- a b a g u -\n"
     ]
    },
    {
     "name": "stdin",
     "output_type": "stream",
     "text": [
      "Guess a letter:  l\n"
     ]
    },
    {
     "name": "stdout",
     "output_type": "stream",
     "text": [
      "- a b a g u l\n"
     ]
    },
    {
     "name": "stdin",
     "output_type": "stream",
     "text": [
      "Guess a letter:  s\n"
     ]
    },
    {
     "name": "stdout",
     "output_type": "stream",
     "text": [
      "s a b a g u l\n",
      "You win!!\n"
     ]
    }
   ],
   "source": [
    "import random\n",
    "\n",
    "# Stages of the hangman game\n",
    "stages = ['''\n",
    "  +---+\n",
    "  |   |\n",
    "  O   |\n",
    " /|\\  |\n",
    " / \\  |\n",
    "      |\n",
    "=========\n",
    "''', '''\n",
    "  +---+\n",
    "  |   |\n",
    "  O   |\n",
    " /|\\  |\n",
    " /    |\n",
    "      |\n",
    "=========\n",
    "''', '''\n",
    "  +---+\n",
    "  |   |\n",
    "  O   |\n",
    " /|\\  |\n",
    "      |\n",
    "      |\n",
    "=========\n",
    "''', '''\n",
    "  +---+\n",
    "  |   |\n",
    "  O   |\n",
    " /|   |\n",
    "      |\n",
    "      |\n",
    "=========\n",
    "''', '''\n",
    "  +---+\n",
    "  |   |\n",
    "  O   |\n",
    "  |   |\n",
    "      |\n",
    "      |\n",
    "=========\n",
    "''', '''\n",
    "  +---+\n",
    "  |   |\n",
    "  O   |\n",
    "      |\n",
    "      |\n",
    "      |\n",
    "=========\n",
    "''', '''\n",
    "  +---+\n",
    "  |   |\n",
    "      |\n",
    "      |\n",
    "      |\n",
    "      |\n",
    "=========\n",
    "''']\n",
    "\n",
    "# List of words in which pc will get randomly one\n",
    "word_list = [\"apple\", \"beautiful\", \"sabagul\", \"naz\", \"potato\"]\n",
    "\n",
    "# Set initial number of lives means attempts\n",
    "lives = 6\n",
    "\n",
    "# Choose a random word from the word list\n",
    "chosen_word = random.choice(word_list)\n",
    "print(f\"Pssst, the solution is {chosen_word}.\")  # For testing purposes\n",
    "\n",
    "# Create a display list to show the word progress\n",
    "display = [\"-\" for _ in range(len(chosen_word))]\n",
    "\n",
    "# Game over flag\n",
    "game_over = False\n",
    "\n",
    "while not game_over:\n",
    "    # Get the guessed letter from the user\n",
    "    guessed_letter = input(\"Guess a letter: \").lower()\n",
    "\n",
    "    # Check if the guessed letter is in the chosen word\n",
    "    if guessed_letter in chosen_word:\n",
    "        for position in range(len(chosen_word)):\n",
    "            letter = chosen_word[position]\n",
    "            if letter == guessed_letter:\n",
    "                display[position] = guessed_letter\n",
    "    else:\n",
    "        # Reduce lives if the guessed letter is not in the chosen word\n",
    "        lives -= 1\n",
    "        print(stages[lives])\n",
    "        if lives == 0:\n",
    "            game_over = True\n",
    "            print(\"You lose!!\")\n",
    "            print(f\"The word was: {chosen_word}\")\n",
    "\n",
    "    # Print the current state of the word\n",
    "    print(\" \".join(display))\n",
    "\n",
    "    # Check if the word is fully guessed\n",
    "    if \"-\" not in display:\n",
    "        game_over = True\n",
    "        print(\"You win!!\")\n"
   ]
  },
  {
   "cell_type": "code",
   "execution_count": null,
   "id": "48296b51-a403-4b37-a2d1-1b41aadd4850",
   "metadata": {},
   "outputs": [],
   "source": []
  }
 ],
 "metadata": {
  "kernelspec": {
   "display_name": "Python 3 (ipykernel)",
   "language": "python",
   "name": "python3"
  },
  "language_info": {
   "codemirror_mode": {
    "name": "ipython",
    "version": 3
   },
   "file_extension": ".py",
   "mimetype": "text/x-python",
   "name": "python",
   "nbconvert_exporter": "python",
   "pygments_lexer": "ipython3",
   "version": "3.11.7"
  }
 },
 "nbformat": 4,
 "nbformat_minor": 5
}
